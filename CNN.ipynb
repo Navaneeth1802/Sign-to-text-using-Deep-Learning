{
  "cells": [
    {
      "cell_type": "code",
      "execution_count": null,
      "metadata": {
        "id": "1glCZM5TRYtZ"
      },
      "outputs": [],
      "source": [
        "from keras.utils import to_categorical\n",
        "from keras.models import Sequential\n",
        "from keras.layers import Dense, Conv2D, Dropout, Flatten, MaxPooling2D\n",
        "from keras.preprocessing.image import ImageDataGenerator\n",
        "from keras.callbacks import TensorBoard\n",
        "import os"
      ]
    },
    {
      "cell_type": "code",
      "execution_count": null,
      "metadata": {
        "colab": {
          "base_uri": "https://localhost:8080/"
        },
        "id": "X0FJUXxg0v5T",
        "outputId": "5deb9f87-b3b6-4955-de9a-d8de8d7d17f6"
      },
      "outputs": [
        {
          "output_type": "stream",
          "name": "stdout",
          "text": [
            "Found 10137 images belonging to 27 classes.\n",
            "Found 4349 images belonging to 27 classes.\n"
          ]
        }
      ],
      "source": [
        "train_datagen=ImageDataGenerator(\n",
        "    rescale=1./255,\n",
        ")\n",
        "val_datagen=ImageDataGenerator(rescale=1./255)\n",
        "batch_size=128\n",
        "\n",
        "train_generator=train_datagen.flow_from_directory(\n",
        "    '/content/drive/MyDrive/SignLanguage/Splitdataset48x48/train',\n",
        "    target_size=(48,48),\n",
        "    batch_size=batch_size,\n",
        "    class_mode='categorical',\n",
        "    color_mode='grayscale'\n",
        "\n",
        ")\n",
        "validation_generator=val_datagen.flow_from_directory(\n",
        "    '/content/drive/MyDrive/SignLanguage/Splitdataset48x48/val',\n",
        "    target_size=(48,48),\n",
        "    batch_size=128,\n",
        "    class_mode='categorical',\n",
        "    color_mode='grayscale'\n",
        "\n",
        ")"
      ]
    },
    {
      "cell_type": "code",
      "execution_count": null,
      "metadata": {
        "colab": {
          "base_uri": "https://localhost:8080/"
        },
        "id": "VFYIoe6R0y6S",
        "outputId": "ef3c073d-055f-4b2f-9d65-aa59353f1795"
      },
      "outputs": [
        {
          "data": {
            "text/plain": [
              "['A',\n",
              " 'B',\n",
              " 'C',\n",
              " 'D',\n",
              " 'E',\n",
              " 'F',\n",
              " 'G',\n",
              " 'H',\n",
              " 'I',\n",
              " 'J',\n",
              " 'K',\n",
              " 'L',\n",
              " 'M',\n",
              " 'N',\n",
              " 'O',\n",
              " 'P',\n",
              " 'Q',\n",
              " 'R',\n",
              " 'S',\n",
              " 'T',\n",
              " 'U',\n",
              " 'V',\n",
              " 'W',\n",
              " 'X',\n",
              " 'Y',\n",
              " 'Z',\n",
              " 'blank']"
            ]
          },
          "execution_count": 6,
          "metadata": {},
          "output_type": "execute_result"
        }
      ],
      "source": [
        "class_names=list(train_generator.class_indices.keys())\n",
        "class_names"
      ]
    },
    {
      "cell_type": "code",
      "execution_count": null,
      "metadata": {
        "id": "UD3jD-RJ02aC"
      },
      "outputs": [],
      "source": [
        "model=Sequential()\n",
        "#convulational layer\n",
        "model.add(Conv2D(64,kernel_size=(3,3),activation='relu',input_shape=(48,48,1)))\n",
        "model.add(MaxPooling2D(pool_size=(2,2)))\n",
        "model.add(Dropout(0.2))\n",
        "\n",
        "model.add(Conv2D(128,kernel_size=(3,3),activation='relu'))\n",
        "model.add(MaxPooling2D(pool_size=(2,2)))\n",
        "model.add(Dropout(0.2))\n",
        "\n",
        "model.add(Conv2D(512,kernel_size=(3,3),activation='relu'))\n",
        "model.add(MaxPooling2D(pool_size=(2,2)))\n",
        "model.add(Flatten())\n",
        "#connected layer\n",
        "model.add(Dense(512,activation='relu'))\n",
        "model.add(Dropout(0.2))\n",
        "model.add(Dense(256,activation='relu'))\n",
        "model.add(Dropout(0.2))\n",
        "model.add(Dense(64,activation='relu'))\n",
        "model.add(Dropout(0.2))\n",
        "model.add(Dense(27,activation='softmax'))\n"
      ]
    },
    {
      "cell_type": "code",
      "execution_count": null,
      "metadata": {
        "colab": {
          "base_uri": "https://localhost:8080/"
        },
        "id": "d4NHmMxy087L",
        "outputId": "283b8490-af69-4c64-cb46-713061d539c4"
      },
      "outputs": [
        {
          "name": "stdout",
          "output_type": "stream",
          "text": [
            "Model: \"sequential\"\n",
            "_________________________________________________________________\n",
            " Layer (type)                Output Shape              Param #   \n",
            "=================================================================\n",
            " conv2d (Conv2D)             (None, 46, 46, 64)        640       \n",
            "                                                                 \n",
            " max_pooling2d (MaxPooling2  (None, 23, 23, 64)        0         \n",
            " D)                                                              \n",
            "                                                                 \n",
            " dropout (Dropout)           (None, 23, 23, 64)        0         \n",
            "                                                                 \n",
            " conv2d_1 (Conv2D)           (None, 21, 21, 128)       73856     \n",
            "                                                                 \n",
            " max_pooling2d_1 (MaxPoolin  (None, 10, 10, 128)       0         \n",
            " g2D)                                                            \n",
            "                                                                 \n",
            " dropout_1 (Dropout)         (None, 10, 10, 128)       0         \n",
            "                                                                 \n",
            " conv2d_2 (Conv2D)           (None, 8, 8, 512)         590336    \n",
            "                                                                 \n",
            " max_pooling2d_2 (MaxPoolin  (None, 4, 4, 512)         0         \n",
            " g2D)                                                            \n",
            "                                                                 \n",
            " flatten (Flatten)           (None, 8192)              0         \n",
            "                                                                 \n",
            " dense (Dense)               (None, 512)               4194816   \n",
            "                                                                 \n",
            " dropout_2 (Dropout)         (None, 512)               0         \n",
            "                                                                 \n",
            " dense_1 (Dense)             (None, 256)               131328    \n",
            "                                                                 \n",
            " dropout_3 (Dropout)         (None, 256)               0         \n",
            "                                                                 \n",
            " dense_2 (Dense)             (None, 64)                16448     \n",
            "                                                                 \n",
            " dropout_4 (Dropout)         (None, 64)                0         \n",
            "                                                                 \n",
            " dense_3 (Dense)             (None, 27)                1755      \n",
            "                                                                 \n",
            "=================================================================\n",
            "Total params: 5009179 (19.11 MB)\n",
            "Trainable params: 5009179 (19.11 MB)\n",
            "Non-trainable params: 0 (0.00 Byte)\n",
            "_________________________________________________________________\n"
          ]
        }
      ],
      "source": [
        "model.summary()\n"
      ]
    },
    {
      "cell_type": "code",
      "execution_count": null,
      "metadata": {
        "colab": {
          "base_uri": "https://localhost:8080/"
        },
        "id": "ONgWqapu1AbS",
        "outputId": "16a30a09-a5a4-4ee8-bfe8-947108fe3b00"
      },
      "outputs": [
        {
          "name": "stdout",
          "output_type": "stream",
          "text": [
            "/bin/bash: line 1: Logs: command not found\n"
          ]
        }
      ],
      "source": [
        "model.compile(optimizer='adam',loss='categorical_crossentropy',metrics='accuracy')\n",
        "!rm=rf Logs\n",
        "logdir=os.path.join(\"Logs\")\n",
        "TensorBoard_callback=TensorBoard(log_dir=logdir)\n"
      ]
    },
    {
      "cell_type": "code",
      "execution_count": null,
      "metadata": {
        "colab": {
          "background_save": true,
          "base_uri": "https://localhost:8080/"
        },
        "id": "W7tY5yz_1EPs",
        "outputId": "8a8c62e9-c8ca-44ed-ccf4-a73699365219"
      },
      "outputs": [
        {
          "name": "stdout",
          "output_type": "stream",
          "text": [
            "Epoch 1/100\n",
            "79/79 [==============================] - 3757s 48s/step - loss: 2.7491 - accuracy: 0.1851 - val_loss: 0.9645 - val_accuracy: 0.7086\n",
            "Epoch 2/100\n",
            "79/79 [==============================] - 200s 3s/step - loss: 0.5881 - accuracy: 0.8204 - val_loss: 0.0775 - val_accuracy: 0.9815\n",
            "Epoch 3/100\n",
            "41/79 [==============>...............] - ETA: 1:25 - loss: 0.1659 - accuracy: 0.9495"
          ]
        }
      ],
      "source": [
        "model.fit(\n",
        "    train_generator,\n",
        "    steps_per_epoch=train_generator.samples // batch_size,\n",
        "    epochs=100,\n",
        "    validation_data=validation_generator,\n",
        "    validation_steps=validation_generator.samples // batch_size,\n",
        "    callbacks=[TensorBoard_callback]\n",
        ")"
      ]
    },
    {
      "cell_type": "code",
      "execution_count": null,
      "metadata": {
        "colab": {
          "base_uri": "https://localhost:8080/"
        },
        "id": "R15ikRf7s3qV",
        "outputId": "389eed20-8b08-4a91-cd18-df487e7bc7b3"
      },
      "outputs": [
        {
          "name": "stdout",
          "output_type": "stream",
          "text": [
            "34/34 [==============================] - 18s 528ms/step\n"
          ]
        }
      ],
      "source": [
        "predictions=model.predict(validation_generator)"
      ]
    },
    {
      "cell_type": "code",
      "execution_count": null,
      "metadata": {
        "id": "x5abC7w1DxW3"
      },
      "outputs": [],
      "source": [
        "from sklearn.metrics import accuracy_score\n",
        "accuracy = accuracy_score(validation_generator.classes,predictions.argmax(axis=1))\n"
      ]
    },
    {
      "cell_type": "code",
      "execution_count": null,
      "metadata": {
        "colab": {
          "base_uri": "https://localhost:8080/"
        },
        "id": "lgF3ScE0Eh9m",
        "outputId": "e030eb2b-3293-448a-929b-336add9a51de"
      },
      "outputs": [
        {
          "data": {
            "text/plain": [
              "0.04138882501724534"
            ]
          },
          "execution_count": 15,
          "metadata": {},
          "output_type": "execute_result"
        }
      ],
      "source": [
        "accuracy\n"
      ]
    },
    {
      "cell_type": "code",
      "execution_count": null,
      "metadata": {
        "id": "-N6e58IuNxuI"
      },
      "outputs": [],
      "source": [
        "loss: 0.0554 - accuracy: 0.9840 - val_loss: 0.0087 - val_accuracy: 0.9976"
      ]
    },
    {
      "cell_type": "code",
      "execution_count": null,
      "metadata": {
        "colab": {
          "base_uri": "https://localhost:8080/",
          "height": 607
        },
        "id": "9rGYaDUyOAnu",
        "outputId": "50ade597-ada8-4d5b-e47c-b32f35d4161f"
      },
      "outputs": [
        {
          "data": {
            "image/png": "[encoded data removed]",
            "text/plain": [
              "<Figure size 800x600 with 2 Axes>"
            ]
          },
          "metadata": {},
          "output_type": "display_data"
        }
      ],
      "source": [
        "import matplotlib.pyplot as plt\n",
        "\n",
        "# Training and validation data\n",
        "train_loss = 0.0554  # Replace with your actual training loss\n",
        "train_accuracy = 0.9840  # Replace with your actual training accuracy\n",
        "val_loss = 0.0087  # Replace with your actual validation loss\n",
        "val_accuracy = 0.9976  # Replace with your actual validation accuracy\n",
        "\n",
        "# Labels for the bars\n",
        "labels = ['Training', 'Validation']\n",
        "\n",
        "# Create the bar chart\n",
        "x = range(len(labels))  # Positions for the bars\n",
        "width = 0.35  # Bar width\n",
        "\n",
        "plt.figure(figsize=(8, 6))\n",
        "\n",
        "# Loss bar chart\n",
        "plt.subplot(1, 2, 1)\n",
        "# Convert the range object to a list so you can perform arithmetic operations\n",
        "plt.bar([i - width/2 for i in x], [train_loss, val_loss], width, label='Loss')\n",
        "plt.xlabel('Loss')\n",
        "plt.ylabel('Value')\n",
        "plt.title('Training vs. Validation Loss')\n",
        "plt.xticks(x, labels)\n",
        "plt.legend()\n",
        "\n",
        "# Accuracy bar chart\n",
        "plt.subplot(1, 2, 2)\n",
        "# Convert the range object to a list so you can perform arithmetic operations\n",
        "plt.bar([i + width/2 for i in x], [train_accuracy, val_accuracy], width, label='Accuracy')\n",
        "plt.xlabel('Accuracy')\n",
        "plt.ylabel('Value')\n",
        "plt.title('Training vs. Validation Accuracy')\n",
        "plt.xticks(x, labels)\n",
        "plt.legend()\n",
        "\n",
        "# Display the plot\n",
        "plt.tight_layout()\n",
        "plt.show()\n"
      ]
    },
    {
      "cell_type": "code",
      "execution_count": null,
      "metadata": {
        "colab": {
          "base_uri": "https://localhost:8080/"
        },
        "id": "64Sk0hZtlwNE",
        "outputId": "5bdd948c-2ddb-4935-9fda-c01e18425d08"
      },
      "outputs": [
        {
          "name": "stderr",
          "output_type": "stream",
          "text": [
            "/usr/local/lib/python3.10/dist-packages/keras/src/engine/training.py:3103: UserWarning: You are saving your model as an HDF5 file via `model.save()`. This file format is considered legacy. We recommend using instead the native Keras format, e.g. `model.save('my_model.keras')`.\n",
            "  saving_api.save_model(\n"
          ]
        }
      ],
      "source": [
        "model_json = model.to_json()\n",
        "with open(\"/content/drive/MyDrive/signlanguagedetectionmodel48x48.json\", 'a') as json_file:\n",
        "    json_file.write(model_json)  # Append to existing content\n",
        "\n",
        "model.save(\"/content/drive/MyDrive/signlanguagedetectionmodel48x48.h5\")\n"
      ]
    },
    {
      "cell_type": "code",
      "execution_count": null,
      "metadata": {
        "colab": {
          "base_uri": "https://localhost:8080/",
          "height": 211
        },
        "id": "hziwVGXhTm_F",
        "outputId": "c29e8a71-3482-4724-c224-e47d0d2f2c4d"
      },
      "outputs": [
        {
          "ename": "NameError",
          "evalue": "name 'validation_generators' is not defined",
          "output_type": "error",
          "traceback": [
            "\u001b[0;31m---------------------------------------------------------------------------\u001b[0m",
            "\u001b[0;31mNameError\u001b[0m                                 Traceback (most recent call last)",
            "\u001b[0;32m<ipython-input-2-5e0c40762042>\u001b[0m in \u001b[0;36m<cell line: 7>\u001b[0;34m()\u001b[0m\n\u001b[1;32m      5\u001b[0m \u001b[0;34m\u001b[0m\u001b[0m\n\u001b[1;32m      6\u001b[0m \u001b[0;31m# Get the confusion matrix\u001b[0m\u001b[0;34m\u001b[0m\u001b[0;34m\u001b[0m\u001b[0m\n\u001b[0;32m----> 7\u001b[0;31m \u001b[0mcm\u001b[0m \u001b[0;34m=\u001b[0m \u001b[0mconfusion_matrix\u001b[0m\u001b[0;34m(\u001b[0m\u001b[0mvalidation_generators\u001b[0m\u001b[0;34m,\u001b[0m \u001b[0mpredictions\u001b[0m\u001b[0;34m.\u001b[0m\u001b[0margmax\u001b[0m\u001b[0;34m(\u001b[0m\u001b[0maxis\u001b[0m\u001b[0;34m=\u001b[0m\u001b[0;36m1\u001b[0m\u001b[0;34m)\u001b[0m\u001b[0;34m)\u001b[0m\u001b[0;34m\u001b[0m\u001b[0;34m\u001b[0m\u001b[0m\n\u001b[0m\u001b[1;32m      8\u001b[0m \u001b[0;34m\u001b[0m\u001b[0m\n\u001b[1;32m      9\u001b[0m \u001b[0;31m# Set up the plot\u001b[0m\u001b[0;34m\u001b[0m\u001b[0;34m\u001b[0m\u001b[0m\n",
            "\u001b[0;31mNameError\u001b[0m: name 'validation_generators' is not defined"
          ]
        }
      ],
      "source": [
        "# prompt: confussion matrix for comparing validation data\n",
        "from sklearn.metrics import confusion_matrix\n",
        "import seaborn as sns\n",
        "import matplotlib.pyplot as plt\n",
        "\n",
        "# Get the confusion matrix\n",
        "cm = confusion_matrix(validation_generators, predictions.argmax(axis=1))\n",
        "\n",
        "# Set up the plot\n",
        "plt.figure(figsize=(10, 10))\n",
        "\n",
        "# Create a heatmap of the confusion matrix\n",
        "sns.heatmap(cm, annot=True, fmt=\"d\", cmap=\"Blues\")\n",
        "\n",
        "# Set the labels and title\n",
        "plt.xlabel(\"Predicted\")\n",
        "plt.ylabel(\"True\")\n",
        "plt.title(\"Confusion Matrix for Validation Data\")\n",
        "\n",
        "# Display the plot\n",
        "plt.show()\n"
      ]
    }
  ],
  "metadata": {
    "accelerator": "GPU",
    "colab": {
      "gpuType": "T4",
      "provenance": []
    },
    "kernelspec": {
      "display_name": "Python 3",
      "name": "python3"
    },
    "language_info": {
      "name": "python"
    }
  },
  "nbformat": 4,
  "nbformat_minor": 0
}